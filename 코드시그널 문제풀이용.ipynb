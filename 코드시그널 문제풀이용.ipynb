{
 "cells": [
  {
   "cell_type": "code",
   "execution_count": null,
   "metadata": {},
   "outputs": [],
   "source": [
    "def almostIncreasingSequence(sequence):\n",
    "    a=0\n",
    "    b=[]\n",
    "    c=[]\n",
    "    while sequence[a]<sequence[a+1]:\n",
    "        a=a+1\n",
    "        if a==len(sequence):\n",
    "            break\n",
    "    poping=sequence.pop(a)\n",
    "    for i in range(len(sequence)-1):\n",
    "        if sequence[i]<sequence[i+1]:\n",
    "            b.append(0)\n",
    "        else:\n",
    "            b.append(1)\n",
    "    sequence.insert(a,poping)\n",
    "    sequence.pop(a+1)\n",
    "    for i in range(len(sequence)-1):\n",
    "        if sequence[i]<sequence[i+1]:\n",
    "            c.append(0)\n",
    "        else:\n",
    "            c.append(1)\n",
    "    if sum(b)==0:\n",
    "        d=0\n",
    "    else:\n",
    "        d=1\n",
    "    if sum(c)==0:\n",
    "        e=0\n",
    "    else:\n",
    "        e=1\n",
    "    if d*e==0:\n",
    "        return True\n",
    "    else:\n",
    "        return False"
   ]
  },
  {
   "cell_type": "code",
   "execution_count": null,
   "metadata": {},
   "outputs": [],
   "source": [
    "matrix=[[0,1,1,2],[0,5,0,0],[2,0,3,3]]\n",
    "a=[]\n",
    "i=0\n",
    "while i<len(matrix)-1:\n",
    "    for j in range(len(matrix[0])):\n",
    "        if matrix[i][j]!=0:\n",
    "            a.append(matrix[i][j])\n",
    "        else:\n",
    "            matrix[i+1][j]=0\n",
    "    i=i+1\n",
    "for h in range(len(matrix[0])):\n",
    "    a.append(matrix[-1][h])\n",
    "print(a)"
   ]
  },
  {
   "cell_type": "code",
   "execution_count": null,
   "metadata": {},
   "outputs": [],
   "source": [
    "a='power overwhelming'\n",
    "print(len(a))"
   ]
  },
  {
   "cell_type": "code",
   "execution_count": null,
   "metadata": {},
   "outputs": [],
   "source": [
    "a='poweroverwhelming'\n",
    "b=list(a)\n",
    "print(b)"
   ]
  },
  {
   "cell_type": "code",
   "execution_count": null,
   "metadata": {},
   "outputs": [],
   "source": [
    "def commonCharacterCount(s1, s2):\n",
    "    a=[]\n",
    "    S1=list(s1)\n",
    "    S2=list(s2)\n",
    "    sortS1=sorted(S1)\n",
    "    sortS2=sorted(S2)\n",
    "    i=0\n",
    "    while i<(len(sortS1))*(len(sortS2)):\n",
    "        if sortS1[i]==sortS2[i]:\n",
    "            a.append(1)\n",
    "            popping=sortS1.pop(i)\n",
    "            sortS2.pop(i)\n",
    "        elif popping in sortS1:\n",
    "            while popping in sortS1:\n",
    "                sortS1.remove(popping)\n",
    "        \n",
    "        elif popping in sortS2:\n",
    "            while popping in sortS2:\n",
    "                sortS2.remove(popping)\n",
    "    return sum(a)\n",
    "commonCharacterCount('aabcc', 'adcaa')\n",
    "\n"
   ]
  },
  {
   "cell_type": "code",
   "execution_count": null,
   "metadata": {},
   "outputs": [],
   "source": [
    "a={1,2,4}\n",
    "b={1,2}\n",
    "c=max(len(a),len(b))\n",
    "print(c)"
   ]
  },
  {
   "cell_type": "code",
   "execution_count": null,
   "metadata": {},
   "outputs": [],
   "source": [
    "b=[]\n",
    "a=123.0\n",
    "c=int(a)\n",
    "d=str(c)\n",
    "print(d,type(d))"
   ]
  },
  {
   "cell_type": "code",
   "execution_count": null,
   "metadata": {
    "scrolled": true
   },
   "outputs": [],
   "source": [
    "a=[-1,150,190,170,-1,-1,160,180]\n",
    "where=[]\n",
    "i=0\n",
    "l=len(a)\n",
    "number=a.count(-1)\n",
    "for i in range(len(a)):\n",
    "    if a[i]==-1:\n",
    "        where.append(i)\n",
    "    else:\n",
    "        pass\n",
    "while -1 in a:\n",
    "    a.remove(-1)\n",
    "a.sort()\n",
    "print(a)\n",
    "\n",
    "for j in range(len(where)):\n",
    "    a.insert(where[j],-1)\n",
    "print(a)"
   ]
  },
  {
   "cell_type": "code",
   "execution_count": null,
   "metadata": {},
   "outputs": [],
   "source": [
    "c=[1,4,2,6,8,9,12]\n",
    "if c[-2]==9:\n",
    "    print('bodu')"
   ]
  },
  {
   "cell_type": "code",
   "execution_count": null,
   "metadata": {},
   "outputs": [],
   "source": [
    "def tennisSet(score1, score2):\n",
    "    if score1>score2:\n",
    "        if score1<6:\n",
    "            return False\n",
    "        elif score1==6:\n",
    "            if score2==5:\n",
    "                return False\n",
    "            else:\n",
    "                return True\n",
    "        elif score1==7:\n",
    "            if 5<=score2<=6:\n",
    "                return True\n",
    "            else:\n",
    "                return False\n",
    "        elif score1>7:\n",
    "            return False\n",
    "    elif score1<score2:\n",
    "        if score2<6:\n",
    "            return False\n",
    "        elif score2==6:\n",
    "            if score2==5:\n",
    "                return False\n",
    "            else:\n",
    "                return True\n",
    "        elif score2==7:\n",
    "            if 5<=score1<=6:\n",
    "                return True\n",
    "            else:\n",
    "                return False\n",
    "        elif score2>7:\n",
    "            return False\n",
    "    else:\n",
    "        return False\n",
    "print(tennisSet(5,7))"
   ]
  },
  {
   "cell_type": "code",
   "execution_count": null,
   "metadata": {},
   "outputs": [],
   "source": [
    "def firstDigit(inputString):\n",
    "    a=[]\n",
    "    for i in range(len(inputString)):\n",
    "        for j in range(0,10):\n",
    "            if inputString[i]=='0':\n",
    "                a.append('0')\n",
    "            elif inputString[i]=='1':\n",
    "                a.append('1')\n",
    "            elif inputString[i]=='2':\n",
    "                a.append('2')\n",
    "            elif inputString[i]=='3':\n",
    "                a.append('3')\n",
    "            else:\n",
    "                continue\n",
    "    return a[]\n",
    "print(firstDigit('bodu34'))"
   ]
  },
  {
   "cell_type": "code",
   "execution_count": 6,
   "metadata": {},
   "outputs": [
    {
     "ename": "SyntaxError",
     "evalue": "invalid syntax (<ipython-input-6-d49ac90f6619>, line 1)",
     "output_type": "error",
     "traceback": [
      "\u001b[1;36m  File \u001b[1;32m\"<ipython-input-6-d49ac90f6619>\"\u001b[1;36m, line \u001b[1;32m1\u001b[0m\n\u001b[1;33m    def calc_power(a),(b):\u001b[0m\n\u001b[1;37m                     ^\u001b[0m\n\u001b[1;31mSyntaxError\u001b[0m\u001b[1;31m:\u001b[0m invalid syntax\n"
     ]
    }
   ],
   "source": [
    "def calc_power(b):\n",
    "    return \n",
    "print(calc_power(3)(4))"
   ]
  },
  {
   "cell_type": "code",
   "execution_count": 6,
   "metadata": {},
   "outputs": [
    {
     "name": "stdout",
     "output_type": "stream",
     "text": [
      "[1, 2, 3, 4]\n"
     ]
    }
   ],
   "source": [
    "a=[1,3,2,4]\n",
    "b=sorted(a)\n",
    "print(b)"
   ]
  },
  {
   "cell_type": "code",
   "execution_count": 2,
   "metadata": {},
   "outputs": [
    {
     "name": "stdout",
     "output_type": "stream",
     "text": [
      "['a', 'b', 'd', 'o', 's', 'u']\n"
     ]
    }
   ],
   "source": [
    "a='bodusa'\n",
    "b=sorted(a)\n",
    "print(b)"
   ]
  }
 ],
 "metadata": {
  "kernelspec": {
   "display_name": "Python 3",
   "language": "python",
   "name": "python3"
  },
  "language_info": {
   "codemirror_mode": {
    "name": "ipython",
    "version": 3
   },
   "file_extension": ".py",
   "mimetype": "text/x-python",
   "name": "python",
   "nbconvert_exporter": "python",
   "pygments_lexer": "ipython3",
   "version": "3.7.6"
  }
 },
 "nbformat": 4,
 "nbformat_minor": 4
}
